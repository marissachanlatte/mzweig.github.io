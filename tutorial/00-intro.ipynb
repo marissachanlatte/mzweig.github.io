{
 "metadata": {
  "name": "",
  "signature": "sha256:099c3b8b44f9323821face39eb5882f59de878fbacb335333756a34643e18fa0"
 },
 "nbformat": 3,
 "nbformat_minor": 0,
 "worksheets": [
  {
   "cells": [
    {
     "cell_type": "markdown",
     "metadata": {},
     "source": [
      "PyNE Tutorial\n",
      "=============\n",
      "\n",
      "Welcome to the PyNE tutorial! \n",
      "\n",
      "![PyNE Tree](https://raw.github.com/pyne/pyne/staging/img/pyne_icon_big.png)\n"
     ]
    },
    {
     "cell_type": "markdown",
     "metadata": {},
     "source": [
      "# Before you begin\n",
      "* Hopefully you've installed the virtual machine if necessary. \n",
      "    - If not, please go to http://pyne.io/install/vb.html#vb to install a virtual machine.\n",
      "    - If so, open it now and open Accessories -> LXTerminal"
     ]
    },
    {
     "cell_type": "markdown",
     "metadata": {},
     "source": [
      "# Is PyNE Installed?\n",
      "\n",
      "You can verify that PyNE is successfully installed by running the following: \n"
     ]
    },
    {
     "cell_type": "code",
     "collapsed": false,
     "input": [
      "from pyne import data\n",
      "print data.atomic_mass('U235')"
     ],
     "language": "python",
     "metadata": {},
     "outputs": [
      {
       "output_type": "stream",
       "stream": "stdout",
       "text": [
        "235.043930131\n"
       ]
      }
     ],
     "prompt_number": 3
    },
    {
     "cell_type": "markdown",
     "metadata": {},
     "source": [
      "# Open the tutorial\n",
      "\n",
      "You can start the tutorial by navigating to `~/opt/pyne/tutorial` and entering\n",
      "\n",
      "```bash\n",
      "$ ipython notebook --matplotlib\n",
      "```\n",
      "\n",
      "This should open the tutorial in a web browser. We'll start with `00-intro`. This isn't the most up-to-date version, but it's pretty close.\n"
     ]
    },
    {
     "cell_type": "markdown",
     "metadata": {},
     "source": [
      "# What is PyNE?\n",
      "\n",
      "As out tagline says, PyNE is the open source nuclear engineering toolkit.  \n",
      "\n",
      "* PyNE is intended as a library of composable tools that is used to build nuclear science and engineering applications.\n",
      "* It is permissively licensed (2-clause BSD)\n",
      "* It supports both a C++ and a Python API.\n",
      "* The name 'PyNE' is a bit of a misnomer since most of the code base is in C++ but most daily usage happens in Python.\n",
      "* The v0.4 code is the current stable release\n",
      "* As an organization, PyNE was born in April 2011.  However, core parts of PyNE have existed since 2007."
     ]
    },
    {
     "cell_type": "markdown",
     "metadata": {},
     "source": [
      "# What are the goals of PyNE?\n",
      "\n",
      "To help nuclear engineers:\n",
      "\n",
      "* be more productive,\n",
      "* have the *best* solvers,\n",
      "* have a beautiful API,\n",
      "* write really great code,\n",
      "* and teach the next generation.\n",
      "\n",
      "And of course, to perform neat tricks like this:"
     ]
    },
    {
     "cell_type": "code",
     "collapsed": false,
     "input": [
      "import numpy as np\n",
      "from pyne import mesh, material \n",
      "from pyne.xs.channels import sigma_t\n",
      "from yt.config import ytcfg; ytcfg[\"yt\",\"suppressStreamLogging\"] = \"True\"\n",
      "from yt.frontends.moab.api import PyneMoabHex8Dataset\n",
      "from yt.mods import SlicePlot\n",
      "m = mesh.Mesh(structured_coords=[np.linspace(0.0, 1.0, 101), np.linspace(0.0, 1.0, 101), [0.0, 1.0]], structured=True)\n",
      "fuel = material.from_atom_frac({'U235': 0.045, 'U238': 0.955, 'O16': 2.0}, mass=1.0, density=10.7)\n",
      "cool = material.from_atom_frac({'H1': 2.0, 'O16': 1.0}, mass=1.0, density=1.0)\n",
      "for i, mat, ve in m:\n",
      "    coord = m.mesh.getVtxCoords(ve)\n",
      "    m.mats[i] = fuel if (coord[0]**2 + coord[1]**2) <= 0.5**2 else cool\n",
      "m.sigma_t = mesh.ComputedTag(lambda mesh, i: sigma_t(mesh.mats[i], group_struct=[10.0, 1e-6], phi_g=[1.0])[0])\n",
      "m.u_mass = mesh.ComputedTag(lambda mesh, i: max(mesh.mats[i]['U':'Np'].mass, 0.0))\n",
      "SlicePlot(PyneMoabHex8Dataset(m), 'z', 'sigma_t', origin='native').display()\n",
      "print \"Pu Content of Mesh:\", sum(m.u_mass[:])\n"
     ],
     "language": "python",
     "metadata": {},
     "outputs": [
      {
       "output_type": "stream",
       "stream": "stderr",
       "text": [
        "yt : [INFO     ] 2015-02-13 10:22:07,166 Parameters: current_time              = 0.0\n"
       ]
      },
      {
       "output_type": "stream",
       "stream": "stderr",
       "text": [
        "yt : [INFO     ] 2015-02-13 10:22:07,167 Parameters: domain_dimensions         = [ 1.  1.  1.]\n"
       ]
      },
      {
       "output_type": "stream",
       "stream": "stderr",
       "text": [
        "yt : [INFO     ] 2015-02-13 10:22:07,168 Parameters: domain_left_edge          = [ 0.  0.  0.]\n"
       ]
      },
      {
       "output_type": "stream",
       "stream": "stderr",
       "text": [
        "yt : [INFO     ] 2015-02-13 10:22:07,169 Parameters: domain_right_edge         = [ 1.  1.  1.]\n"
       ]
      },
      {
       "output_type": "stream",
       "stream": "stderr",
       "text": [
        "yt : [INFO     ] 2015-02-13 10:22:07,170 Parameters: cosmological_simulation   = 0.0\n"
       ]
      },
      {
       "output_type": "stream",
       "stream": "stderr",
       "text": [
        "yt : [INFO     ] 2015-02-13 10:22:07,237 Loading field plugins.\n"
       ]
      },
      {
       "output_type": "stream",
       "stream": "stderr",
       "text": [
        "yt : [INFO     ] 2015-02-13 10:22:07,238 Loaded angular_momentum (8 new fields)\n"
       ]
      },
      {
       "output_type": "stream",
       "stream": "stderr",
       "text": [
        "yt : [INFO     ] 2015-02-13 10:22:07,239 Loaded astro (15 new fields)\n"
       ]
      },
      {
       "output_type": "stream",
       "stream": "stderr",
       "text": [
        "yt : [INFO     ] 2015-02-13 10:22:07,239 Loaded cosmology (22 new fields)\n"
       ]
      },
      {
       "output_type": "stream",
       "stream": "stderr",
       "text": [
        "yt : [INFO     ] 2015-02-13 10:22:07,241 Loaded fluid (64 new fields)\n"
       ]
      },
      {
       "output_type": "stream",
       "stream": "stderr",
       "text": [
        "yt : [INFO     ] 2015-02-13 10:22:07,243 Loaded fluid_vector (96 new fields)\n"
       ]
      },
      {
       "output_type": "stream",
       "stream": "stderr",
       "text": [
        "yt : [INFO     ] 2015-02-13 10:22:07,244 Loaded geometric (112 new fields)\n"
       ]
      },
      {
       "output_type": "stream",
       "stream": "stderr",
       "text": [
        "yt : [INFO     ] 2015-02-13 10:22:07,245 Loaded local (112 new fields)\n"
       ]
      },
      {
       "output_type": "stream",
       "stream": "stderr",
       "text": [
        "yt : [INFO     ] 2015-02-13 10:22:07,246 Loaded magnetic_field (120 new fields)\n"
       ]
      },
      {
       "output_type": "stream",
       "stream": "stderr",
       "text": [
        "yt : [INFO     ] 2015-02-13 10:22:07,247 Loaded my_plugins (120 new fields)\n"
       ]
      },
      {
       "output_type": "stream",
       "stream": "stderr",
       "text": [
        "yt : [INFO     ] 2015-02-13 10:22:07,247 Loaded species (122 new fields)\n"
       ]
      },
      {
       "output_type": "stream",
       "stream": "stderr",
       "text": [
        "yt : [INFO     ] 2015-02-13 10:22:08,021 xlim = 0.000000 1.000000\n"
       ]
      },
      {
       "output_type": "stream",
       "stream": "stderr",
       "text": [
        "yt : [INFO     ] 2015-02-13 10:22:08,022 ylim = 0.000000 1.000000\n"
       ]
      },
      {
       "output_type": "stream",
       "stream": "stderr",
       "text": [
        "yt : [INFO     ] 2015-02-13 10:22:08,024 Making a fixed resolution buffer of (('pyne', 'sigma_t')) 800 by 800\n"
       ]
      },
      {
       "output_type": "stream",
       "stream": "stderr",
       "text": [
        "yt : [INFO     ] 2015-02-13 10:22:08,048 xlim = 0.000000 1.000000\n"
       ]
      },
      {
       "output_type": "stream",
       "stream": "stderr",
       "text": [
        "yt : [INFO     ] 2015-02-13 10:22:08,048 ylim = 0.000000 1.000000\n"
       ]
      },
      {
       "output_type": "stream",
       "stream": "stderr",
       "text": [
        "yt : [INFO     ] 2015-02-13 10:22:08,050 Making a fixed resolution buffer of (('pyne', 'sigma_t')) 800 by 800\n"
       ]
      },
      {
       "output_type": "stream",
       "stream": "stderr",
       "text": [
        "yt : [INFO     ] 2015-02-13 10:22:08,078 Making a fixed resolution buffer of (('pyne', 'sigma_t')) 800 by 800\n"
       ]
      },
      {
       "html": [
        "<img src=\"data:image/png;base64,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\"><br>"
       ],
       "metadata": {},
       "output_type": "display_data",
       "text": [
        "<yt.visualization.plot_window.AxisAlignedSlicePlot at 0x10b3129d0>"
       ]
      },
      {
       "output_type": "stream",
       "stream": "stdout",
       "text": [
        "Pu Content of Mesh: "
       ]
      },
      {
       "output_type": "stream",
       "stream": "stdout",
       "text": [
        "1732.10345314\n"
       ]
      }
     ],
     "prompt_number": 4
    },
    {
     "cell_type": "markdown",
     "metadata": {},
     "source": [
      "# What could you do with PyNE?\n",
      "\n",
      "As a **user** you could do your work or research with PyNE.  Even if you have your own software that looks and behaves similarly to some aspects of PyNE, using PyNE will mean that you no longer have to develop AND maintain that functionality.\n",
      "\n",
      "As a **developer** you should be selfish.  Contribute to PyNE in ways that support the work that you are doing. If a feature you want is not in PyNE right now, chances are that other people want to see that feature too! This will help your future self as much as future other people."
     ]
    },
    {
     "cell_type": "markdown",
     "metadata": {},
     "source": [
      "# What goes into PyNE?\n",
      "\n",
      "Anything that is not export controllable, proprietary, or under HIPPA restrictions!  (If you have questions, ask.)"
     ]
    },
    {
     "cell_type": "markdown",
     "metadata": {},
     "source": [
      "# Contact PyNE\n",
      "\n",
      "**Website:** http://pyne.io/\n",
      "\n",
      "**User's Mailing List:** pyne-users@googlegroups.com\n",
      "\n",
      "**Developer's List:** pyne-dev@googlegroups.com"
     ]
    },
    {
     "cell_type": "markdown",
     "metadata": {},
     "source": [
      "# Questions?"
     ]
    }
   ],
   "metadata": {}
  }
 ]
}