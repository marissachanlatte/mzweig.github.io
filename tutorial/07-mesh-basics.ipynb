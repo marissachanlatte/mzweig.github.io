{
 "metadata": {
  "name": "",
  "signature": "sha256:1fa8a77810b2499de2da83e129920371f4aa86473cf5f978d0e4e9f1ed6d703e"
 },
 "nbformat": 3,
 "nbformat_minor": 0,
 "worksheets": [
  {
   "cells": [
    {
     "cell_type": "markdown",
     "metadata": {},
     "source": [
      "# PyNE Meshes\n",
      "\n",
      "PyNE also has a mesh interface that is used to represent any kind of mesh desired.  This is a layer on top of [MOAB](https://trac.mcs.anl.gov/projects/ITAPS/wiki/MOAB) meshes which adds:\n",
      "\n",
      "1. PyNE materials to volume elements\n",
      "2. A generic tagging interface.\n",
      "\n",
      "In the `pyne.mesh` module lives the `Mesh` class.  This class houses an iMesh instance and contains methods for various mesh operations. The following attribute of a `Mesh` object are most important.\n",
      "\n",
      "* **mesh:** iMesh instance\n",
      "\n",
      "* **mats:** MaterialLibrary or dict or Materials or None, This is a mapping of volume element handles to Material objects.\n",
      "\n",
      "To do any visulaization or volumetric analysis of such meshes, we recomend the [yt project](http://yt-project.org/).\n"
     ]
    },
    {
     "cell_type": "code",
     "collapsed": false,
     "input": [
      "from pyne.xs.channels import sigma_t\n",
      "from pyne.material import Material, from_atom_frac\n",
      "from pyne.mesh import Mesh, IMeshTag, MetadataTag, ComputedTag\n",
      "from yt.config import ytcfg; ytcfg[\"yt\",\"suppressStreamLogging\"] = \"True\"\n",
      "from yt.frontends.moab.api import PyneMoabHex8Dataset\n",
      "from yt.mods import SlicePlot"
     ],
     "language": "python",
     "metadata": {},
     "outputs": [],
     "prompt_number": 17
    },
    {
     "cell_type": "markdown",
     "metadata": {},
     "source": [
      "First, let's create a 2D structured mesh, whose grid points in x & y are [Cantor dust](http://en.wikipedia.org/wiki/Cantor_set#Cantor_dust).  Most of the mesh will have water as a coolant.  Some volume elements will have fuel, though."
     ]
    },
    {
     "cell_type": "code",
     "collapsed": false,
     "input": [
      "def cantor(n):\n",
      "    return [0.] + cant(0., 1., n) + [1.]\n",
      "\n",
      "def cant(x, y, n):\n",
      "    if n == 0:\n",
      "        return []\n",
      "    new_pts = [2.*x/3. + y/3., x/3. + 2.*y/3.]\n",
      "    return cant(x, new_pts[0], n-1) + new_pts + cant(new_pts[1], y, n-1)"
     ],
     "language": "python",
     "metadata": {},
     "outputs": [],
     "prompt_number": 18
    },
    {
     "cell_type": "code",
     "collapsed": false,
     "input": [
      "c5 = cantor(5)\n",
      "coords = [c5, c5, [0.0, 1.0]]"
     ],
     "language": "python",
     "metadata": {},
     "outputs": [],
     "prompt_number": 19
    },
    {
     "cell_type": "markdown",
     "metadata": {},
     "source": [
      "We access volume elements (`ve`) on the mesh through a volume element index (`ve_idx`).  This index is a unique integer `i` that gives a sort ordering to an otherwise unordered mesh.  The volume element index is defined on the range from 0 (inclusive) to the number of volumes in the mesh (exclusive).  You may access a volume element's material through the `mats` attribute and indexing with `i`."
     ]
    },
    {
     "cell_type": "code",
     "collapsed": false,
     "input": [
      "m = Mesh(structured_coords=coords, structured=True)"
     ],
     "language": "python",
     "metadata": {},
     "outputs": [],
     "prompt_number": 20
    },
    {
     "cell_type": "code",
     "collapsed": false,
     "input": [
      "fuel = from_atom_frac({'U235': 0.045, 'U238': 0.955, 'O16': 2.0}, density=10.7)\n",
      "cool = from_atom_frac({'H1': 2.0, 'O16': 1.0}, density=1.0)\n",
      "for i in range(len(m)):\n",
      "    m.mats[i] = cool\n",
      "m.mats[len(m)/2] = fuel\n",
      "m.mats[len(m)/4] = fuel\n",
      "for i, c in enumerate(c5[:-1]):\n",
      "    m.mats[i*len(c5)] = fuel"
     ],
     "language": "python",
     "metadata": {},
     "outputs": [],
     "prompt_number": 21
    },
    {
     "cell_type": "heading",
     "level": 2,
     "metadata": {},
     "source": [
      "Tags"
     ]
    },
    {
     "cell_type": "markdown",
     "metadata": {},
     "source": [
      "`Tag`s - sometimes known as fields - are generic way of storing data on a mesh.  Tags can be accessed as attributes on the mesh class itself.  For example, the density tag may be grabbed via:"
     ]
    },
    {
     "cell_type": "code",
     "collapsed": false,
     "input": [
      "m.density "
     ],
     "language": "python",
     "metadata": {},
     "outputs": [
      {
       "metadata": {},
       "output_type": "pyout",
       "prompt_number": 22,
       "text": [
        "MaterialPropertyTag(name='density', doc='the density [g/cc]')"
       ]
      }
     ],
     "prompt_number": 22
    },
    {
     "cell_type": "markdown",
     "metadata": {},
     "source": [
      "To get the value of the density, you have to provide the location by its index."
     ]
    },
    {
     "cell_type": "code",
     "collapsed": false,
     "input": [
      "m.density[42]"
     ],
     "language": "python",
     "metadata": {},
     "outputs": [
      {
       "metadata": {},
       "output_type": "pyout",
       "prompt_number": 23,
       "text": [
        "1.0"
       ]
      }
     ],
     "prompt_number": 23
    },
    {
     "cell_type": "markdown",
     "metadata": {},
     "source": [
      "You can also slice, mask, or fancy index tags:"
     ]
    },
    {
     "cell_type": "code",
     "collapsed": false,
     "input": [
      "print m.density[::100]  # slice"
     ],
     "language": "python",
     "metadata": {},
     "outputs": [
      {
       "output_type": "stream",
       "stream": "stdout",
       "text": [
        "[ 10.7   1.    1.    1.    1.    1.    1.    1.    1.    1.    1.    1.\n",
        "   1.    1.    1.    1.   10.7   1.    1.    1.    1.    1.    1.    1.\n",
        "   1.    1.    1.    1.    1.    1.    1.    1.   10.7   1.    1.    1.\n",
        "   1.    1.    1.    1. ]\n"
       ]
      }
     ],
     "prompt_number": 24
    },
    {
     "cell_type": "code",
     "collapsed": false,
     "input": [
      "print m.density[m.density[:] >= 10]  # mask"
     ],
     "language": "python",
     "metadata": {},
     "outputs": [
      {
       "output_type": "stream",
       "stream": "stdout",
       "text": [
        "[ 10.7  10.7  10.7  10.7  10.7  10.7  10.7  10.7  10.7  10.7  10.7  10.7\n",
        "  10.7  10.7  10.7  10.7  10.7  10.7  10.7  10.7  10.7  10.7  10.7  10.7\n",
        "  10.7  10.7  10.7  10.7  10.7  10.7  10.7  10.7  10.7  10.7  10.7  10.7\n",
        "  10.7  10.7  10.7  10.7  10.7  10.7  10.7  10.7  10.7  10.7  10.7  10.7\n",
        "  10.7  10.7  10.7  10.7  10.7  10.7  10.7  10.7  10.7  10.7  10.7  10.7\n",
        "  10.7  10.7  10.7  10.7]\n"
       ]
      }
     ],
     "prompt_number": 25
    },
    {
     "cell_type": "code",
     "collapsed": false,
     "input": [
      "print m.density[[10, 0, 11, 100]]  # fancy index is fancy"
     ],
     "language": "python",
     "metadata": {},
     "outputs": [
      {
       "output_type": "stream",
       "stream": "stdout",
       "text": [
        "[  1.   10.7   1.    1. ]\n"
       ]
      }
     ],
     "prompt_number": 26
    },
    {
     "cell_type": "markdown",
     "metadata": {},
     "source": [
      "To get a list of all current tag names, uses the `tags` dictionary on the mesh:"
     ]
    },
    {
     "cell_type": "code",
     "collapsed": false,
     "input": [
      "m.tags.keys()"
     ],
     "language": "python",
     "metadata": {},
     "outputs": [
      {
       "metadata": {},
       "output_type": "pyout",
       "prompt_number": 27,
       "text": [
        "['sub_act',\n",
        " 'expand_elements',\n",
        " 'number_density',\n",
        " 'sub_tru',\n",
        " 'idx',\n",
        " 'density',\n",
        " 'comp',\n",
        " 'atoms_per_molecule',\n",
        " 'to_atom_frac',\n",
        " 'sub_lan',\n",
        " 'molecular_mass',\n",
        " 'mass',\n",
        " 'sub_fp',\n",
        " 'mult_by_mass',\n",
        " 'sub_ma',\n",
        " 'mass_density',\n",
        " 'metadata']"
       ]
      }
     ],
     "prompt_number": 27
    },
    {
     "cell_type": "heading",
     "level": 2,
     "metadata": {},
     "source": [
      "Analysis & Visulaization"
     ]
    },
    {
     "cell_type": "markdown",
     "metadata": {},
     "source": [
      "PyNE meshes are supported by the [yt project](http://yt-project.org/).  Use yt's plotting infrastructure to display tags on your mesh."
     ]
    },
    {
     "cell_type": "code",
     "collapsed": false,
     "input": [
      "pf = PyneMoabHex8Dataset(m)\n",
      "s = SlicePlot(pf, 'z', 'density', origin='native')\n",
      "s.display()"
     ],
     "language": "python",
     "metadata": {},
     "outputs": [
      {
       "output_type": "stream",
       "stream": "stderr",
       "text": [
        "yt : [INFO     ] 2015-02-13 10:22:15,581 Parameters: current_time              = 0.0\n"
       ]
      },
      {
       "output_type": "stream",
       "stream": "stderr",
       "text": [
        "yt : [INFO     ] 2015-02-13 10:22:15,581 Parameters: domain_dimensions         = [ 1.  1.  1.]\n"
       ]
      },
      {
       "output_type": "stream",
       "stream": "stderr",
       "text": [
        "yt : [INFO     ] 2015-02-13 10:22:15,582 Parameters: domain_left_edge          = [ 0.  0.  0.]\n"
       ]
      },
      {
       "output_type": "stream",
       "stream": "stderr",
       "text": [
        "yt : [INFO     ] 2015-02-13 10:22:15,583 Parameters: domain_right_edge         = [ 1.  1.  1.]\n"
       ]
      },
      {
       "output_type": "stream",
       "stream": "stderr",
       "text": [
        "yt : [INFO     ] 2015-02-13 10:22:15,583 Parameters: cosmological_simulation   = 0.0\n"
       ]
      },
      {
       "output_type": "stream",
       "stream": "stderr",
       "text": [
        "yt : [INFO     ] 2015-02-13 10:22:15,614 Loading field plugins.\n"
       ]
      },
      {
       "output_type": "stream",
       "stream": "stderr",
       "text": [
        "yt : [INFO     ] 2015-02-13 10:22:15,614 Loaded angular_momentum (8 new fields)\n"
       ]
      },
      {
       "output_type": "stream",
       "stream": "stderr",
       "text": [
        "yt : [INFO     ] 2015-02-13 10:22:15,615 Loaded astro (15 new fields)\n"
       ]
      },
      {
       "output_type": "stream",
       "stream": "stderr",
       "text": [
        "yt : [INFO     ] 2015-02-13 10:22:15,616 Loaded cosmology (22 new fields)\n"
       ]
      },
      {
       "output_type": "stream",
       "stream": "stderr",
       "text": [
        "yt : [INFO     ] 2015-02-13 10:22:15,616 Loaded fluid (64 new fields)\n"
       ]
      },
      {
       "output_type": "stream",
       "stream": "stderr",
       "text": [
        "yt : [INFO     ] 2015-02-13 10:22:15,618 Loaded fluid_vector (96 new fields)\n"
       ]
      },
      {
       "output_type": "stream",
       "stream": "stderr",
       "text": [
        "yt : [INFO     ] 2015-02-13 10:22:15,619 Loaded geometric (112 new fields)\n"
       ]
      },
      {
       "output_type": "stream",
       "stream": "stderr",
       "text": [
        "yt : [INFO     ] 2015-02-13 10:22:15,619 Loaded local (112 new fields)\n"
       ]
      },
      {
       "output_type": "stream",
       "stream": "stderr",
       "text": [
        "yt : [INFO     ] 2015-02-13 10:22:15,620 Loaded magnetic_field (120 new fields)\n"
       ]
      },
      {
       "output_type": "stream",
       "stream": "stderr",
       "text": [
        "yt : [INFO     ] 2015-02-13 10:22:15,621 Loaded my_plugins (120 new fields)\n"
       ]
      },
      {
       "output_type": "stream",
       "stream": "stderr",
       "text": [
        "yt : [INFO     ] 2015-02-13 10:22:15,621 Loaded species (122 new fields)\n"
       ]
      },
      {
       "output_type": "stream",
       "stream": "stderr",
       "text": [
        "yt : [INFO     ] 2015-02-13 10:22:15,773 xlim = 0.000000 1.000000\n"
       ]
      },
      {
       "output_type": "stream",
       "stream": "stderr",
       "text": [
        "yt : [INFO     ] 2015-02-13 10:22:15,773 ylim = 0.000000 1.000000\n"
       ]
      },
      {
       "output_type": "stream",
       "stream": "stderr",
       "text": [
        "yt : [INFO     ] 2015-02-13 10:22:15,775 Making a fixed resolution buffer of (('pyne', 'density')) 800 by 800\n"
       ]
      },
      {
       "output_type": "stream",
       "stream": "stderr",
       "text": [
        "yt : [INFO     ] 2015-02-13 10:22:15,794 xlim = 0.000000 1.000000\n"
       ]
      },
      {
       "output_type": "stream",
       "stream": "stderr",
       "text": [
        "yt : [INFO     ] 2015-02-13 10:22:15,795 ylim = 0.000000 1.000000\n"
       ]
      },
      {
       "output_type": "stream",
       "stream": "stderr",
       "text": [
        "yt : [INFO     ] 2015-02-13 10:22:15,797 Making a fixed resolution buffer of (('pyne', 'density')) 800 by 800\n"
       ]
      },
      {
       "output_type": "stream",
       "stream": "stderr",
       "text": [
        "yt : [INFO     ] 2015-02-13 10:22:15,814 Making a fixed resolution buffer of (('pyne', 'density')) 800 by 800\n"
       ]
      },
      {
       "html": [
        "<img src=\"data:image/png;base64,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\"><br>"
       ],
       "metadata": {},
       "output_type": "display_data",
       "text": [
        "<yt.visualization.plot_window.AxisAlignedSlicePlot at 0x11acadd50>"
       ]
      }
     ],
     "prompt_number": 28
    },
    {
     "cell_type": "heading",
     "level": 2,
     "metadata": {},
     "source": [
      "Computed Tags"
     ]
    },
    {
     "cell_type": "markdown",
     "metadata": {},
     "source": [
      "Computed tags - also known as 'derived fields' - are a way of having a lazily evaluated 'virtual tag.'  A computed tag is defined with a function, lambda, or any other callable object.  The function must have the following interface:\n",
      "\n",
      "```python\n",
      "def f(mesh, i):\n",
      "    \"\"\"mesh is a pyne.mesh.Mesh() object and i is the volume element index\n",
      "    to compute.\n",
      "    \"\"\"\n",
      "    # ... do some work ...\n",
      "    return anything_you_want\n",
      "```\n",
      "\n",
      "Here is a somewhat silly example which squares the density.  "
     ]
    },
    {
     "cell_type": "code",
     "collapsed": false,
     "input": [
      "m.density2 = ComputedTag(lambda mesh, i: mesh.density[i]**2)"
     ],
     "language": "python",
     "metadata": {},
     "outputs": [],
     "prompt_number": 29
    },
    {
     "cell_type": "markdown",
     "metadata": {},
     "source": [
      "Note that the bounds on the color bar have changed."
     ]
    },
    {
     "cell_type": "code",
     "collapsed": false,
     "input": [
      "pf = PyneMoabHex8Dataset(m)\n",
      "s = SlicePlot(pf, 'z', 'density2', origin='native')\n",
      "s.display()"
     ],
     "language": "python",
     "metadata": {},
     "outputs": [
      {
       "output_type": "stream",
       "stream": "stderr",
       "text": [
        "yt : [INFO     ] 2015-02-13 10:22:16,604 Parameters: current_time              = 0.0\n"
       ]
      },
      {
       "output_type": "stream",
       "stream": "stderr",
       "text": [
        "yt : [INFO     ] 2015-02-13 10:22:16,604 Parameters: domain_dimensions         = [ 1.  1.  1.]\n"
       ]
      },
      {
       "output_type": "stream",
       "stream": "stderr",
       "text": [
        "yt : [INFO     ] 2015-02-13 10:22:16,606 Parameters: domain_left_edge          = [ 0.  0.  0.]\n"
       ]
      },
      {
       "output_type": "stream",
       "stream": "stderr",
       "text": [
        "yt : [INFO     ] 2015-02-13 10:22:16,607 Parameters: domain_right_edge         = [ 1.  1.  1.]\n"
       ]
      },
      {
       "output_type": "stream",
       "stream": "stderr",
       "text": [
        "yt : [INFO     ] 2015-02-13 10:22:16,607 Parameters: cosmological_simulation   = 0.0\n"
       ]
      },
      {
       "output_type": "stream",
       "stream": "stderr",
       "text": [
        "yt : [INFO     ] 2015-02-13 10:22:16,647 Loading field plugins.\n"
       ]
      },
      {
       "output_type": "stream",
       "stream": "stderr",
       "text": [
        "yt : [INFO     ] 2015-02-13 10:22:16,648 Loaded angular_momentum (8 new fields)\n"
       ]
      },
      {
       "output_type": "stream",
       "stream": "stderr",
       "text": [
        "yt : [INFO     ] 2015-02-13 10:22:16,649 Loaded astro (15 new fields)\n"
       ]
      },
      {
       "output_type": "stream",
       "stream": "stderr",
       "text": [
        "yt : [INFO     ] 2015-02-13 10:22:16,649 Loaded cosmology (22 new fields)\n"
       ]
      },
      {
       "output_type": "stream",
       "stream": "stderr",
       "text": [
        "yt : [INFO     ] 2015-02-13 10:22:16,650 Loaded fluid (64 new fields)\n"
       ]
      },
      {
       "output_type": "stream",
       "stream": "stderr",
       "text": [
        "yt : [INFO     ] 2015-02-13 10:22:16,651 Loaded fluid_vector (96 new fields)\n"
       ]
      },
      {
       "output_type": "stream",
       "stream": "stderr",
       "text": [
        "yt : [INFO     ] 2015-02-13 10:22:16,653 Loaded geometric (112 new fields)\n"
       ]
      },
      {
       "output_type": "stream",
       "stream": "stderr",
       "text": [
        "yt : [INFO     ] 2015-02-13 10:22:16,653 Loaded local (112 new fields)\n"
       ]
      },
      {
       "output_type": "stream",
       "stream": "stderr",
       "text": [
        "yt : [INFO     ] 2015-02-13 10:22:16,654 Loaded magnetic_field (120 new fields)\n"
       ]
      },
      {
       "output_type": "stream",
       "stream": "stderr",
       "text": [
        "yt : [INFO     ] 2015-02-13 10:22:16,654 Loaded my_plugins (120 new fields)\n"
       ]
      },
      {
       "output_type": "stream",
       "stream": "stderr",
       "text": [
        "yt : [INFO     ] 2015-02-13 10:22:16,655 Loaded species (122 new fields)\n"
       ]
      },
      {
       "output_type": "stream",
       "stream": "stderr",
       "text": [
        "yt : [INFO     ] 2015-02-13 10:22:16,854 xlim = 0.000000 1.000000\n"
       ]
      },
      {
       "output_type": "stream",
       "stream": "stderr",
       "text": [
        "yt : [INFO     ] 2015-02-13 10:22:16,855 ylim = 0.000000 1.000000\n"
       ]
      },
      {
       "output_type": "stream",
       "stream": "stderr",
       "text": [
        "yt : [INFO     ] 2015-02-13 10:22:16,856 Making a fixed resolution buffer of (('pyne', 'density2')) 800 by 800\n"
       ]
      },
      {
       "output_type": "stream",
       "stream": "stderr",
       "text": [
        "yt : [INFO     ] 2015-02-13 10:22:16,886 xlim = 0.000000 1.000000\n"
       ]
      },
      {
       "output_type": "stream",
       "stream": "stderr",
       "text": [
        "yt : [INFO     ] 2015-02-13 10:22:16,887 ylim = 0.000000 1.000000\n"
       ]
      },
      {
       "output_type": "stream",
       "stream": "stderr",
       "text": [
        "yt : [INFO     ] 2015-02-13 10:22:16,889 Making a fixed resolution buffer of (('pyne', 'density2')) 800 by 800\n"
       ]
      },
      {
       "output_type": "stream",
       "stream": "stderr",
       "text": [
        "yt : [INFO     ] 2015-02-13 10:22:16,920 Making a fixed resolution buffer of (('pyne', 'density2')) 800 by 800\n"
       ]
      },
      {
       "html": [
        "<img src=\"data:image/png;base64,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\"><br>"
       ],
       "metadata": {},
       "output_type": "display_data",
       "text": [
        "<yt.visualization.plot_window.AxisAlignedSlicePlot at 0x1151b4a50>"
       ]
      }
     ],
     "prompt_number": 30
    },
    {
     "cell_type": "markdown",
     "metadata": {},
     "source": [
      "Here is a more serious example which uses PyNE's cross section tools to compute the one-group total cross section $\\sigma_t$ everywhere on the mesh."
     ]
    },
    {
     "cell_type": "code",
     "collapsed": false,
     "input": [
      "m.sigma_t = ComputedTag(lambda mesh, i: sigma_t(mesh.mats[i], group_struct=[10.0, 1e-6], phi_g=[1.0])[0])"
     ],
     "language": "python",
     "metadata": {},
     "outputs": [],
     "prompt_number": 31
    },
    {
     "cell_type": "code",
     "collapsed": false,
     "input": [
      "pf = PyneMoabHex8Dataset(m)\n",
      "s = SlicePlot(pf, 'z', 'sigma_t', origin='native')\n",
      "s.display()"
     ],
     "language": "python",
     "metadata": {},
     "outputs": [
      {
       "output_type": "stream",
       "stream": "stderr",
       "text": [
        "yt : [INFO     ] 2015-02-13 10:22:17,834 Parameters: current_time              = 0.0\n"
       ]
      },
      {
       "output_type": "stream",
       "stream": "stderr",
       "text": [
        "yt : [INFO     ] 2015-02-13 10:22:17,835 Parameters: domain_dimensions         = [ 1.  1.  1.]\n"
       ]
      },
      {
       "output_type": "stream",
       "stream": "stderr",
       "text": [
        "yt : [INFO     ] 2015-02-13 10:22:17,836 Parameters: domain_left_edge          = [ 0.  0.  0.]\n"
       ]
      },
      {
       "output_type": "stream",
       "stream": "stderr",
       "text": [
        "yt : [INFO     ] 2015-02-13 10:22:17,837 Parameters: domain_right_edge         = [ 1.  1.  1.]\n"
       ]
      },
      {
       "output_type": "stream",
       "stream": "stderr",
       "text": [
        "yt : [INFO     ] 2015-02-13 10:22:17,837 Parameters: cosmological_simulation   = 0.0\n"
       ]
      },
      {
       "output_type": "stream",
       "stream": "stderr",
       "text": [
        "yt : [INFO     ] 2015-02-13 10:22:17,872 Loading field plugins.\n"
       ]
      },
      {
       "output_type": "stream",
       "stream": "stderr",
       "text": [
        "yt : [INFO     ] 2015-02-13 10:22:17,872 Loaded angular_momentum (8 new fields)\n"
       ]
      },
      {
       "output_type": "stream",
       "stream": "stderr",
       "text": [
        "yt : [INFO     ] 2015-02-13 10:22:17,873 Loaded astro (15 new fields)\n"
       ]
      },
      {
       "output_type": "stream",
       "stream": "stderr",
       "text": [
        "yt : [INFO     ] 2015-02-13 10:22:17,874 Loaded cosmology (22 new fields)\n"
       ]
      },
      {
       "output_type": "stream",
       "stream": "stderr",
       "text": [
        "yt : [INFO     ] 2015-02-13 10:22:17,875 Loaded fluid (64 new fields)\n"
       ]
      },
      {
       "output_type": "stream",
       "stream": "stderr",
       "text": [
        "yt : [INFO     ] 2015-02-13 10:22:17,875 Loaded fluid_vector (96 new fields)\n"
       ]
      },
      {
       "output_type": "stream",
       "stream": "stderr",
       "text": [
        "yt : [INFO     ] 2015-02-13 10:22:17,876 Loaded geometric (112 new fields)\n"
       ]
      },
      {
       "output_type": "stream",
       "stream": "stderr",
       "text": [
        "yt : [INFO     ] 2015-02-13 10:22:17,876 Loaded local (112 new fields)\n"
       ]
      },
      {
       "output_type": "stream",
       "stream": "stderr",
       "text": [
        "yt : [INFO     ] 2015-02-13 10:22:17,877 Loaded magnetic_field (120 new fields)\n"
       ]
      },
      {
       "output_type": "stream",
       "stream": "stderr",
       "text": [
        "yt : [INFO     ] 2015-02-13 10:22:17,877 Loaded my_plugins (120 new fields)\n"
       ]
      },
      {
       "output_type": "stream",
       "stream": "stderr",
       "text": [
        "yt : [INFO     ] 2015-02-13 10:22:17,878 Loaded species (122 new fields)\n"
       ]
      },
      {
       "output_type": "stream",
       "stream": "stderr",
       "text": [
        "yt : [INFO     ] 2015-02-13 10:22:18,483 xlim = 0.000000 1.000000\n"
       ]
      },
      {
       "output_type": "stream",
       "stream": "stderr",
       "text": [
        "yt : [INFO     ] 2015-02-13 10:22:18,483 ylim = 0.000000 1.000000\n"
       ]
      },
      {
       "output_type": "stream",
       "stream": "stderr",
       "text": [
        "yt : [INFO     ] 2015-02-13 10:22:18,484 Making a fixed resolution buffer of (('pyne', 'sigma_t')) 800 by 800\n"
       ]
      },
      {
       "output_type": "stream",
       "stream": "stderr",
       "text": [
        "yt : [INFO     ] 2015-02-13 10:22:18,502 xlim = 0.000000 1.000000\n"
       ]
      },
      {
       "output_type": "stream",
       "stream": "stderr",
       "text": [
        "yt : [INFO     ] 2015-02-13 10:22:18,503 ylim = 0.000000 1.000000\n"
       ]
      },
      {
       "output_type": "stream",
       "stream": "stderr",
       "text": [
        "yt : [INFO     ] 2015-02-13 10:22:18,504 Making a fixed resolution buffer of (('pyne', 'sigma_t')) 800 by 800\n"
       ]
      },
      {
       "output_type": "stream",
       "stream": "stderr",
       "text": [
        "yt : [INFO     ] 2015-02-13 10:22:18,521 Making a fixed resolution buffer of (('pyne', 'sigma_t')) 800 by 800\n"
       ]
      },
      {
       "html": [
        "<img src=\"data:image/png;base64,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\"><br>"
       ],
       "metadata": {},
       "output_type": "display_data",
       "text": [
        "<yt.visualization.plot_window.AxisAlignedSlicePlot at 0x11acadf50>"
       ]
      }
     ],
     "prompt_number": 32
    },
    {
     "cell_type": "markdown",
     "metadata": {},
     "source": [
      "Yes, that was only one line of code."
     ]
    }
   ],
   "metadata": {}
  }
 ]
}